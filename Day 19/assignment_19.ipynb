{
 "cells": [
  {
   "cell_type": "code",
   "execution_count": 0,
   "metadata": {
    "application/vnd.databricks.v1+cell": {
     "cellMetadata": {
      "byteLimit": 2048000,
      "rowLimit": 10000
     },
     "inputWidgets": {},
     "nuid": "61944da0-27d1-4393-b846-19cef0da666d",
     "showTitle": false,
     "tableResultSettingsMap": {},
     "title": ""
    }
   },
   "outputs": [
    {
     "output_type": "display_data",
     "data": {
      "text/html": [
       "<style scoped>\n",
       "  .table-result-container {\n",
       "    max-height: 300px;\n",
       "    overflow: auto;\n",
       "  }\n",
       "  table, th, td {\n",
       "    border: 1px solid black;\n",
       "    border-collapse: collapse;\n",
       "  }\n",
       "  th, td {\n",
       "    padding: 5px;\n",
       "  }\n",
       "  th {\n",
       "    text-align: left;\n",
       "  }\n",
       "</style><div class='table-result-container'><table class='table-result'><thead style='background-color: white'><tr><th>processName</th><th>rawtableName</th><th>rawcolumnName</th><th>rawdatatype</th><th>logic</th><th>curatedtablename</th><th>curatedcolumnname</th><th>curateddatatype</th></tr></thead><tbody><tr><td>userinfo</td><td>users</td><td>id</td><td>string</td><td>ID is NOT NULL</td><td>cur_user</td><td>cur_u_id</td><td>string</td></tr><tr><td>userinfo</td><td>users</td><td>firstname</td><td>string</td><td>null</td><td>cur_user</td><td>cur_u_firstname</td><td>string</td></tr><tr><td>userinfo</td><td>users</td><td>lastname</td><td>string</td><td>null</td><td>cur_user</td><td>cur_u_lastname</td><td>string</td></tr><tr><td>empinfo</td><td>employee</td><td>id</td><td>string</td><td>ID is NOT NULL</td><td>cur_empi</td><td>cur_e_id</td><td>string</td></tr><tr><td>empinfo</td><td>employee</td><td>firstname</td><td>string</td><td>null</td><td>cur_empi</td><td>cur_e_firstname</td><td>string</td></tr><tr><td>empinfo</td><td>employee</td><td>lastname</td><td>string</td><td>null</td><td>cur_empi</td><td>cur_e_lastname</td><td>string</td></tr></tbody></table></div>"
      ]
     },
     "metadata": {
      "application/vnd.databricks.v1+output": {
       "addedWidgets": {},
       "aggData": [],
       "aggError": "",
       "aggOverflow": false,
       "aggSchema": [],
       "aggSeriesLimitReached": false,
       "aggType": "",
       "arguments": {},
       "columnCustomDisplayInfos": {},
       "data": [
        [
         "userinfo",
         "users",
         "id",
         "string",
         "ID is NOT NULL",
         "cur_user",
         "cur_u_id",
         "string"
        ],
        [
         "userinfo",
         "users",
         "firstname",
         "string",
         null,
         "cur_user",
         "cur_u_firstname",
         "string"
        ],
        [
         "userinfo",
         "users",
         "lastname",
         "string",
         null,
         "cur_user",
         "cur_u_lastname",
         "string"
        ],
        [
         "empinfo",
         "employee",
         "id",
         "string",
         "ID is NOT NULL",
         "cur_empi",
         "cur_e_id",
         "string"
        ],
        [
         "empinfo",
         "employee",
         "firstname",
         "string",
         null,
         "cur_empi",
         "cur_e_firstname",
         "string"
        ],
        [
         "empinfo",
         "employee",
         "lastname",
         "string",
         null,
         "cur_empi",
         "cur_e_lastname",
         "string"
        ]
       ],
       "datasetInfos": [],
       "dbfsResultPath": null,
       "isJsonSchema": true,
       "metadata": {},
       "overflow": false,
       "plotOptions": {
        "customPlotOptions": {},
        "displayType": "table",
        "pivotAggregation": null,
        "pivotColumns": null,
        "xColumns": null,
        "yColumns": null
       },
       "removedWidgets": [],
       "schema": [
        {
         "metadata": "{}",
         "name": "processName",
         "type": "\"string\""
        },
        {
         "metadata": "{}",
         "name": "rawtableName",
         "type": "\"string\""
        },
        {
         "metadata": "{}",
         "name": "rawcolumnName",
         "type": "\"string\""
        },
        {
         "metadata": "{}",
         "name": "rawdatatype",
         "type": "\"string\""
        },
        {
         "metadata": "{}",
         "name": "logic",
         "type": "\"string\""
        },
        {
         "metadata": "{}",
         "name": "curatedtablename",
         "type": "\"string\""
        },
        {
         "metadata": "{}",
         "name": "curatedcolumnname",
         "type": "\"string\""
        },
        {
         "metadata": "{}",
         "name": "curateddatatype",
         "type": "\"string\""
        }
       ],
       "type": "table"
      }
     },
     "output_type": "display_data"
    }
   ],
   "source": [
    "df = spark.table(\"my_database.metadata\")\n",
    "display(df)"
   ]
  },
  {
   "cell_type": "code",
   "execution_count": 0,
   "metadata": {
    "application/vnd.databricks.v1+cell": {
     "cellMetadata": {
      "byteLimit": 2048000,
      "rowLimit": 10000
     },
     "inputWidgets": {},
     "nuid": "01b64d7e-a15f-4ddd-a343-022937710b73",
     "showTitle": false,
     "tableResultSettingsMap": {},
     "title": ""
    }
   },
   "outputs": [
    {
     "output_type": "stream",
     "name": "stdout",
     "output_type": "stream",
     "text": [
      "userinfo\n"
     ]
    },
    {
     "output_type": "display_data",
     "data": {
      "text/html": [
       "<style scoped>\n",
       "  .table-result-container {\n",
       "    max-height: 300px;\n",
       "    overflow: auto;\n",
       "  }\n",
       "  table, th, td {\n",
       "    border: 1px solid black;\n",
       "    border-collapse: collapse;\n",
       "  }\n",
       "  th, td {\n",
       "    padding: 5px;\n",
       "  }\n",
       "  th {\n",
       "    text-align: left;\n",
       "  }\n",
       "</style><div class='table-result-container'><table class='table-result'><thead style='background-color: white'><tr><th>processName</th><th>rawtableName</th><th>rawcolumnName</th><th>rawdatatype</th><th>logic</th><th>curatedtablename</th><th>curatedcolumnname</th><th>curateddatatype</th></tr></thead><tbody><tr><td>userinfo</td><td>users</td><td>id</td><td>string</td><td>ID is NOT NULL</td><td>cur_user</td><td>cur_u_id</td><td>string</td></tr><tr><td>userinfo</td><td>users</td><td>firstname</td><td>string</td><td>null</td><td>cur_user</td><td>cur_u_firstname</td><td>string</td></tr><tr><td>userinfo</td><td>users</td><td>lastname</td><td>string</td><td>null</td><td>cur_user</td><td>cur_u_lastname</td><td>string</td></tr></tbody></table></div>"
      ]
     },
     "metadata": {
      "application/vnd.databricks.v1+output": {
       "addedWidgets": {},
       "aggData": [],
       "aggError": "",
       "aggOverflow": false,
       "aggSchema": [],
       "aggSeriesLimitReached": false,
       "aggType": "",
       "arguments": {},
       "columnCustomDisplayInfos": {},
       "data": [
        [
         "userinfo",
         "users",
         "id",
         "string",
         "ID is NOT NULL",
         "cur_user",
         "cur_u_id",
         "string"
        ],
        [
         "userinfo",
         "users",
         "firstname",
         "string",
         null,
         "cur_user",
         "cur_u_firstname",
         "string"
        ],
        [
         "userinfo",
         "users",
         "lastname",
         "string",
         null,
         "cur_user",
         "cur_u_lastname",
         "string"
        ]
       ],
       "datasetInfos": [],
       "dbfsResultPath": null,
       "isJsonSchema": true,
       "metadata": {},
       "overflow": false,
       "plotOptions": {
        "customPlotOptions": {},
        "displayType": "table",
        "pivotAggregation": null,
        "pivotColumns": null,
        "xColumns": null,
        "yColumns": null
       },
       "removedWidgets": [],
       "schema": [
        {
         "metadata": "{}",
         "name": "processName",
         "type": "\"string\""
        },
        {
         "metadata": "{}",
         "name": "rawtableName",
         "type": "\"string\""
        },
        {
         "metadata": "{}",
         "name": "rawcolumnName",
         "type": "\"string\""
        },
        {
         "metadata": "{}",
         "name": "rawdatatype",
         "type": "\"string\""
        },
        {
         "metadata": "{}",
         "name": "logic",
         "type": "\"string\""
        },
        {
         "metadata": "{}",
         "name": "curatedtablename",
         "type": "\"string\""
        },
        {
         "metadata": "{}",
         "name": "curatedcolumnname",
         "type": "\"string\""
        },
        {
         "metadata": "{}",
         "name": "curateddatatype",
         "type": "\"string\""
        }
       ],
       "type": "table"
      }
     },
     "output_type": "display_data"
    }
   ],
   "source": [
    "dbutils.widgets.text(\"Process Name\", \"userinfo\")\n",
    "input_process_name = dbutils.widgets.get(\"Process Name\")\n",
    "print(input_process_name)\n",
    "\n",
    "df_filtered = df.filter(df.processName == input_process_name)\n",
    "display(df_filtered)\n"
   ]
  },
  {
   "cell_type": "code",
   "execution_count": 0,
   "metadata": {
    "application/vnd.databricks.v1+cell": {
     "cellMetadata": {
      "byteLimit": 2048000,
      "rowLimit": 10000
     },
     "inputWidgets": {},
     "nuid": "9033ad23-968d-4320-aa75-ed043cfcf95f",
     "showTitle": false,
     "tableResultSettingsMap": {},
     "title": ""
    }
   },
   "outputs": [
    {
     "output_type": "display_data",
     "data": {
      "text/html": [
       "<style scoped>\n",
       "  .table-result-container {\n",
       "    max-height: 300px;\n",
       "    overflow: auto;\n",
       "  }\n",
       "  table, th, td {\n",
       "    border: 1px solid black;\n",
       "    border-collapse: collapse;\n",
       "  }\n",
       "  th, td {\n",
       "    padding: 5px;\n",
       "  }\n",
       "  th {\n",
       "    text-align: left;\n",
       "  }\n",
       "</style><div class='table-result-container'><table class='table-result'><thead style='background-color: white'><tr><th>id</th><th>firstname</th><th>lastname</th></tr></thead><tbody><tr><td>01</td><td>kanishk</td><td>garg</td></tr><tr><td>null</td><td>john</td><td>doe</td></tr><tr><td>03</td><td>alice</td><td>george</td></tr><tr><td>null</td><td>jeetesh</td><td>kumar</td></tr></tbody></table></div>"
      ]
     },
     "metadata": {
      "application/vnd.databricks.v1+output": {
       "addedWidgets": {},
       "aggData": [],
       "aggError": "",
       "aggOverflow": false,
       "aggSchema": [],
       "aggSeriesLimitReached": false,
       "aggType": "",
       "arguments": {},
       "columnCustomDisplayInfos": {},
       "data": [
        [
         "01",
         "kanishk",
         "garg"
        ],
        [
         null,
         "john",
         "doe"
        ],
        [
         "03",
         "alice",
         "george"
        ],
        [
         null,
         "jeetesh",
         "kumar"
        ]
       ],
       "datasetInfos": [],
       "dbfsResultPath": null,
       "isJsonSchema": true,
       "metadata": {},
       "overflow": false,
       "plotOptions": {
        "customPlotOptions": {},
        "displayType": "table",
        "pivotAggregation": null,
        "pivotColumns": null,
        "xColumns": null,
        "yColumns": null
       },
       "removedWidgets": [],
       "schema": [
        {
         "metadata": "{}",
         "name": "id",
         "type": "\"string\""
        },
        {
         "metadata": "{}",
         "name": "firstname",
         "type": "\"string\""
        },
        {
         "metadata": "{}",
         "name": "lastname",
         "type": "\"string\""
        }
       ],
       "type": "table"
      }
     },
     "output_type": "display_data"
    }
   ],
   "source": [
    "df_1 = spark.table(f\"default.{df_filtered.first()['rawtableName']}  \")\n",
    "display(df_1)\n"
   ]
  },
  {
   "cell_type": "code",
   "execution_count": 0,
   "metadata": {
    "application/vnd.databricks.v1+cell": {
     "cellMetadata": {},
     "inputWidgets": {},
     "nuid": "0be35220-ef88-4a4a-a31f-28a9f84726da",
     "showTitle": false,
     "tableResultSettingsMap": {},
     "title": ""
    }
   },
   "outputs": [],
   "source": []
  },
  {
   "cell_type": "code",
   "execution_count": 0,
   "metadata": {
    "application/vnd.databricks.v1+cell": {
     "cellMetadata": {
      "byteLimit": 2048000,
      "rowLimit": 10000
     },
     "inputWidgets": {},
     "nuid": "770c56a3-5de0-4421-95f7-784bb0b80539",
     "showTitle": false,
     "tableResultSettingsMap": {},
     "title": ""
    }
   },
   "outputs": [
    {
     "output_type": "display_data",
     "data": {
      "text/html": [
       "<style scoped>\n",
       "  .table-result-container {\n",
       "    max-height: 300px;\n",
       "    overflow: auto;\n",
       "  }\n",
       "  table, th, td {\n",
       "    border: 1px solid black;\n",
       "    border-collapse: collapse;\n",
       "  }\n",
       "  th, td {\n",
       "    padding: 5px;\n",
       "  }\n",
       "  th {\n",
       "    text-align: left;\n",
       "  }\n",
       "</style><div class='table-result-container'><table class='table-result'><thead style='background-color: white'><tr><th>id</th><th>firstname</th><th>lastname</th></tr></thead><tbody><tr><td>01</td><td>kanishk</td><td>garg</td></tr><tr><td>03</td><td>alice</td><td>george</td></tr></tbody></table></div>"
      ]
     },
     "metadata": {
      "application/vnd.databricks.v1+output": {
       "addedWidgets": {},
       "aggData": [],
       "aggError": "",
       "aggOverflow": false,
       "aggSchema": [],
       "aggSeriesLimitReached": false,
       "aggType": "",
       "arguments": {},
       "columnCustomDisplayInfos": {},
       "data": [
        [
         "01",
         "kanishk",
         "garg"
        ],
        [
         "03",
         "alice",
         "george"
        ]
       ],
       "datasetInfos": [],
       "dbfsResultPath": null,
       "isJsonSchema": true,
       "metadata": {},
       "overflow": false,
       "plotOptions": {
        "customPlotOptions": {},
        "displayType": "table",
        "pivotAggregation": null,
        "pivotColumns": null,
        "xColumns": null,
        "yColumns": null
       },
       "removedWidgets": [],
       "schema": [
        {
         "metadata": "{}",
         "name": "id",
         "type": "\"string\""
        },
        {
         "metadata": "{}",
         "name": "firstname",
         "type": "\"string\""
        },
        {
         "metadata": "{}",
         "name": "lastname",
         "type": "\"string\""
        }
       ],
       "type": "table"
      }
     },
     "output_type": "display_data"
    }
   ],
   "source": [
    "logic_expr = df_filtered.first()['logic']\n",
    "df_transferred = df_1.filter(logic_expr)\n",
    "display(df_transferred)"
   ]
  },
  {
   "cell_type": "code",
   "execution_count": 0,
   "metadata": {
    "application/vnd.databricks.v1+cell": {
     "cellMetadata": {
      "byteLimit": 2048000,
      "rowLimit": 10000
     },
     "inputWidgets": {},
     "nuid": "4acf0ed9-8dc0-46f3-8876-68d2fd50ad56",
     "showTitle": false,
     "tableResultSettingsMap": {},
     "title": ""
    }
   },
   "outputs": [
    {
     "output_type": "display_data",
     "data": {
      "text/html": [
       "<style scoped>\n",
       "  .table-result-container {\n",
       "    max-height: 300px;\n",
       "    overflow: auto;\n",
       "  }\n",
       "  table, th, td {\n",
       "    border: 1px solid black;\n",
       "    border-collapse: collapse;\n",
       "  }\n",
       "  th, td {\n",
       "    padding: 5px;\n",
       "  }\n",
       "  th {\n",
       "    text-align: left;\n",
       "  }\n",
       "</style><div class='table-result-container'><table class='table-result'><thead style='background-color: white'><tr><th>id</th><th>firstname</th><th>lastname</th></tr></thead><tbody><tr><td>01</td><td>kanishk</td><td>garg</td></tr><tr><td>03</td><td>alice</td><td>george</td></tr></tbody></table></div>"
      ]
     },
     "metadata": {
      "application/vnd.databricks.v1+output": {
       "addedWidgets": {},
       "aggData": [],
       "aggError": "",
       "aggOverflow": false,
       "aggSchema": [],
       "aggSeriesLimitReached": false,
       "aggType": "",
       "arguments": {},
       "columnCustomDisplayInfos": {},
       "data": [
        [
         "01",
         "kanishk",
         "garg"
        ],
        [
         "03",
         "alice",
         "george"
        ]
       ],
       "datasetInfos": [],
       "dbfsResultPath": null,
       "isJsonSchema": true,
       "metadata": {},
       "overflow": false,
       "plotOptions": {
        "customPlotOptions": {},
        "displayType": "table",
        "pivotAggregation": null,
        "pivotColumns": null,
        "xColumns": null,
        "yColumns": null
       },
       "removedWidgets": [],
       "schema": [
        {
         "metadata": "{}",
         "name": "id",
         "type": "\"string\""
        },
        {
         "metadata": "{}",
         "name": "firstname",
         "type": "\"string\""
        },
        {
         "metadata": "{}",
         "name": "lastname",
         "type": "\"string\""
        }
       ],
       "type": "table"
      }
     },
     "output_type": "display_data"
    },
    {
     "output_type": "stream",
     "name": "stdout",
     "output_type": "stream",
     "text": [
      "\nINSERT INTO cur_user \nSELECT * FROM temp_transferred\n\n"
     ]
    },
    {
     "output_type": "execute_result",
     "data": {
      "text/plain": [
       "DataFrame[num_affected_rows: bigint, num_inserted_rows: bigint]"
      ]
     },
     "execution_count": 6,
     "metadata": {},
     "output_type": "execute_result"
    }
   ],
   "source": [
    "logic_expr = df_filtered.first()['logic']\n",
    "df_transferred = df_1.filter(logic_expr)\n",
    "display(df_transferred)\n",
    "\n",
    "# Register the DataFrame as a temporary view to use in SQL\n",
    "df_transferred.createOrReplaceTempView(\"temp_transferred\")\n",
    "\n",
    "insert_sql = f\"\"\"\n",
    "INSERT INTO {df_filtered.first()['curatedtablename']} \n",
    "SELECT * FROM temp_transferred\n",
    "\"\"\"\n",
    "print(insert_sql)\n",
    "spark.sql(insert_sql)"
   ]
  },
  {
   "cell_type": "code",
   "execution_count": 0,
   "metadata": {
    "application/vnd.databricks.v1+cell": {
     "cellMetadata": {
      "byteLimit": 2048000,
      "implicitDf": true,
      "rowLimit": 10000
     },
     "inputWidgets": {},
     "nuid": "2a3b5e30-e8f9-4d0c-8b52-d4529c9bd740",
     "showTitle": false,
     "tableResultSettingsMap": {},
     "title": ""
    }
   },
   "outputs": [
    {
     "output_type": "display_data",
     "data": {
      "text/html": [
       "<style scoped>\n",
       "  .table-result-container {\n",
       "    max-height: 300px;\n",
       "    overflow: auto;\n",
       "  }\n",
       "  table, th, td {\n",
       "    border: 1px solid black;\n",
       "    border-collapse: collapse;\n",
       "  }\n",
       "  th, td {\n",
       "    padding: 5px;\n",
       "  }\n",
       "  th {\n",
       "    text-align: left;\n",
       "  }\n",
       "</style><div class='table-result-container'><table class='table-result'><thead style='background-color: white'><tr><th>cur_u_id</th><th>cur_u_firstname</th><th>cur_u_lastname</th></tr></thead><tbody><tr><td>01</td><td>kanishk</td><td>garg</td></tr><tr><td>03</td><td>alice</td><td>george</td></tr></tbody></table></div>"
      ]
     },
     "metadata": {
      "application/vnd.databricks.v1+output": {
       "addedWidgets": {},
       "aggData": [],
       "aggError": "",
       "aggOverflow": false,
       "aggSchema": [],
       "aggSeriesLimitReached": false,
       "aggType": "",
       "arguments": {},
       "columnCustomDisplayInfos": {},
       "data": [
        [
         "01",
         "kanishk",
         "garg"
        ],
        [
         "03",
         "alice",
         "george"
        ]
       ],
       "datasetInfos": [],
       "dbfsResultPath": null,
       "isJsonSchema": true,
       "metadata": {},
       "overflow": false,
       "plotOptions": {
        "customPlotOptions": {},
        "displayType": "table",
        "pivotAggregation": null,
        "pivotColumns": null,
        "xColumns": null,
        "yColumns": null
       },
       "removedWidgets": [],
       "schema": [
        {
         "metadata": "{}",
         "name": "cur_u_id",
         "type": "\"string\""
        },
        {
         "metadata": "{}",
         "name": "cur_u_firstname",
         "type": "\"string\""
        },
        {
         "metadata": "{}",
         "name": "cur_u_lastname",
         "type": "\"string\""
        }
       ],
       "type": "table"
      }
     },
     "output_type": "display_data"
    }
   ],
   "source": [
    "select_sql = f\"SELECT * FROM {df_filtered.first()['curatedtablename']}\"\n",
    "display(spark.sql(select_sql))"
   ]
  }
 ],
 "metadata": {
  "application/vnd.databricks.v1+notebook": {
   "computePreferences": null,
   "dashboards": [],
   "environmentMetadata": {
    "base_environment": "",
    "environment_version": "2"
   },
   "inputWidgetPreferences": null,
   "language": "python",
   "notebookMetadata": {
    "mostRecentlyExecutedCommandWithImplicitDF": {
     "commandId": -1,
     "dataframes": [
      "_sqldf"
     ]
    },
    "pythonIndentUnit": 4
   },
   "notebookName": "Untitled Notebook 2025-07-10 10:08:11",
   "widgets": {
    "Process Name": {
     "currentValue": "userinfo",
     "nuid": "8fd6860c-5dc8-424d-ba3b-88172892cb9e",
     "typedWidgetInfo": {
      "autoCreated": false,
      "defaultValue": "userinfo",
      "label": null,
      "name": "Process Name",
      "options": {
       "widgetDisplayType": "Text",
       "validationRegex": null
      },
      "parameterDataType": "String"
     },
     "widgetInfo": {
      "widgetType": "text",
      "defaultValue": "userinfo",
      "label": null,
      "name": "Process Name",
      "options": {
       "widgetType": "text",
       "autoCreated": null,
       "validationRegex": null
      }
     }
    }
   }
  },
  "language_info": {
   "name": "python"
  }
 },
 "nbformat": 4,
 "nbformat_minor": 0
}